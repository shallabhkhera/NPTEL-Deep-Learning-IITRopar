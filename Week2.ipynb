{
  "nbformat": 4,
  "nbformat_minor": 0,
  "metadata": {
    "colab": {
      "name": "Week2.ipynb",
      "provenance": [],
      "collapsed_sections": [],
      "authorship_tag": "ABX9TyPwPZPODiS96bQZ60BdXiXz",
      "include_colab_link": true
    },
    "kernelspec": {
      "name": "python3",
      "display_name": "Python 3"
    },
    "language_info": {
      "name": "python"
    }
  },
  "cells": [
    {
      "cell_type": "markdown",
      "metadata": {
        "id": "view-in-github",
        "colab_type": "text"
      },
      "source": [
        "<a href=\"https://colab.research.google.com/github/shallabhkhera/NPTEL-Deep-Learning-IITRopar/blob/main/Week2.ipynb\" target=\"_parent\"><img src=\"https://colab.research.google.com/assets/colab-badge.svg\" alt=\"Open In Colab\"/></a>"
      ]
    },
    {
      "cell_type": "code",
      "metadata": {
        "id": "JptYAp1KUrQZ"
      },
      "source": [
        "X = [.5,2.5]\n",
        "Y = [.2,.9]\n",
        "\n",
        "def f(w,b,x):\n",
        "  return 1/(1*np.exp(-(w*x+b)))"
      ],
      "execution_count": 2,
      "outputs": []
    },
    {
      "cell_type": "code",
      "metadata": {
        "id": "nd4GD6EmVBZO"
      },
      "source": [
        "def error(w,b):\n",
        "  err = 0\n",
        "  for x,y in zip(X,Y):\n",
        "    fx = f(w,b,x)\n",
        "    err += .5 * (fx-y) ** 2\n",
        "  return err\n",
        "\n",
        "def grad_b(w,b,x,y):\n",
        "  fx = f(w,b,x)\n",
        "  return (fx - y)*fx*(1 - fx)\n",
        "\n",
        "def grad_w(w,b,x,y):\n",
        "  fx = f(w,b,x)\n",
        "  return (fx - y)*fx*(1 - fx)*x\n",
        "\n",
        "def do_gradient_descent():\n",
        "  w,b,eta,max_epochs = -2,-2,1,1000\n",
        "  for i in range(max_epochs):\n",
        "    dw, db = 0,0\n",
        "    for x, y in zip(X,Y):\n",
        "      dw += grad_w(w,b,x,y)\n",
        "      db += grad_b(w,b,x,y)\n",
        "    w = w - eta*dw\n",
        "    b = b - eta*db\n",
        "  \n",
        "\n"
      ],
      "execution_count": 7,
      "outputs": []
    },
    {
      "cell_type": "code",
      "metadata": {
        "id": "7x0KxI8EWQHt"
      },
      "source": [
        ""
      ],
      "execution_count": null,
      "outputs": []
    }
  ]
}